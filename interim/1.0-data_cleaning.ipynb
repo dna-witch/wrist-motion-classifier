{
 "cells": [
  {
   "cell_type": "markdown",
   "metadata": {},
   "source": [
    "# Data Wrangling\n",
    "\n",
    "## Introduction\n",
    "\n",
    "\n",
    "## Data Landscape\n",
    "\n",
    "The data provided (csv) has the following features:\n",
    "+ timestamp (milliseconds with microsecond precision); \n",
    "+ channel 0 raw, \n",
    "+ channel 1 raw,\n",
    "+ channel 0 high-passed, \n",
    "+ channel 1 high-passed (all in ADC counts); \n",
    "+ quaternion x, y, z, and w; \n",
    "\n",
    "The quaternion coordinates follow the convention:\n",
    "The X-axis points West.\n",
    "The Y-axis points South.\n",
    "The Z-axis points Up.\n",
    "+ gyroscope x, y, and z in degrees per second; \n",
    "+ accelerometer x, y, and z in meters per second squared; \n",
    "\n",
    "The accelerometer and gyroscope coordinates follow the ENU convention:\n",
    "The X-axis points East.\n",
    "The Y-axis points North.\n",
    "The Z-axis points Up.\n",
    "+ body movement label; \n",
    "\n",
    "The body movement coding is: 0 = standing #1, 1 = standing #2, 2 = walking, 3 = walking\n",
    "fast, 4 = running.\n",
    "+ repetition number (where there is one \"repetition\" for a given prompting window)\n",
    "\n"
   ]
  },
  {
   "cell_type": "code",
   "execution_count": null,
   "metadata": {},
   "outputs": [],
   "source": [
    "# Import necessary libraries\n",
    "\n",
    "import pandas as pd\n",
    "import numpy as np\n",
    "import matplotlib.pyplot as plt\n"
   ]
  },
  {
   "cell_type": "code",
   "execution_count": null,
   "metadata": {},
   "outputs": [],
   "source": [
    "# Import raw data \n",
    "\n"
   ]
  }
 ],
 "metadata": {
  "kernelspec": {
   "display_name": "Python 3.10.4 64-bit",
   "language": "python",
   "name": "python3"
  },
  "language_info": {
   "name": "python",
   "version": "3.10.4"
  },
  "orig_nbformat": 4,
  "vscode": {
   "interpreter": {
    "hash": "0d5f76658048522b625d72376a9377a110c50842cd0cf3ffb4abab83a7a125af"
   }
  }
 },
 "nbformat": 4,
 "nbformat_minor": 2
}
