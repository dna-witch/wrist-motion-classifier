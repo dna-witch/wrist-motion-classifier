{
 "cells": [
  {
   "cell_type": "markdown",
   "id": "fde910a7",
   "metadata": {},
   "source": [
    "# Building and Evaluating Wrist Motion Classifier"
   ]
  },
  {
   "cell_type": "code",
   "execution_count": 20,
   "id": "bad02bd6",
   "metadata": {},
   "outputs": [],
   "source": [
    "# Import necessary modules\n",
    "import os\n",
    "import zipfile\n",
    "\n",
    "import pandas as pd\n",
    "import numpy as np\n",
    "import statistics\n",
    "import random\n",
    "\n",
    "import matplotlib.pyplot as plt\n",
    "import seaborn as sns\n",
    "\n",
    "# scikit-learn machine learning\n",
    "from sklearn.preprocessing import MaxAbsScaler, StandardScaler\n",
    "from sklearn.model_selection import train_test_split\n",
    "from sklearn.model_selection import RandomizedSearchCV, GridSearchCV\n",
    "from sklearn.ensemble import RandomForestClassifier\n",
    "from sklearn.svm import LinearSVC\n",
    "\n",
    "\n",
    "# evaluate model performance\n",
    "from sklearn.metrics import precision_recall_curve\n",
    "from sklearn.metrics import f1_score\n",
    "from sklearn.metrics import auc\n",
    "from sklearn.metrics import classification_report,confusion_matrix,roc_curve,roc_auc_score\n",
    "from sklearn.metrics import accuracy_score,log_loss\n",
    "\n"
   ]
  },
  {
   "cell_type": "code",
   "execution_count": 2,
   "id": "c9acd518",
   "metadata": {},
   "outputs": [
    {
     "name": "stdout",
     "output_type": "stream",
     "text": [
      "AdaBoostClassifier\n",
      "BaggingClassifier\n",
      "BayesianGaussianMixture\n",
      "BernoulliNB\n",
      "CalibratedClassifierCV\n",
      "CategoricalNB\n",
      "ClassifierChain\n",
      "ComplementNB\n",
      "DecisionTreeClassifier\n",
      "DummyClassifier\n",
      "ExtraTreeClassifier\n",
      "ExtraTreesClassifier\n",
      "GaussianMixture\n",
      "GaussianNB\n",
      "GaussianProcessClassifier\n",
      "GradientBoostingClassifier\n",
      "GridSearchCV\n",
      "HalvingGridSearchCV\n",
      "HalvingRandomSearchCV\n",
      "HistGradientBoostingClassifier\n",
      "KNeighborsClassifier\n",
      "LabelPropagation\n",
      "LabelSpreading\n",
      "LinearDiscriminantAnalysis\n",
      "LogisticRegression\n",
      "LogisticRegressionCV\n",
      "MLPClassifier\n",
      "MultiOutputClassifier\n",
      "MultinomialNB\n",
      "NuSVC\n",
      "OneVsRestClassifier\n",
      "Pipeline\n",
      "QuadraticDiscriminantAnalysis\n",
      "RFE\n",
      "RFECV\n",
      "RadiusNeighborsClassifier\n",
      "RandomForestClassifier\n",
      "RandomizedSearchCV\n",
      "SGDClassifier\n",
      "SVC\n",
      "SelfTrainingClassifier\n",
      "StackingClassifier\n",
      "VotingClassifier\n"
     ]
    }
   ],
   "source": [
    "import sklearn\n",
    "\n",
    "estimators = sklearn.utils.all_estimators(type_filter=None)\n",
    "for name, class_ in estimators:\n",
    "    if hasattr(class_, 'predict_proba'):\n",
    "        print(name)"
   ]
  },
  {
   "cell_type": "code",
   "execution_count": null,
   "id": "9d266738",
   "metadata": {},
   "outputs": [],
   "source": [
    "# # test from-the-box scikit-learn classifier algs to establish baseline performance estimates\n",
    "\n",
    "# from lazypredict.Supervised import LazyClassifier"
   ]
  },
  {
   "cell_type": "code",
   "execution_count": null,
   "id": "84ba4f48",
   "metadata": {},
   "outputs": [],
   "source": [
    "# # import imblearn libraries for SMOTETomek\n",
    "# from imblearn.over_sampling import SMOTE\n",
    "# from imblearn.under_sampling import TomekLinks\n",
    "# from imblearn.combine import SMOTETomek"
   ]
  },
  {
   "cell_type": "code",
   "execution_count": 3,
   "id": "12b4736b",
   "metadata": {},
   "outputs": [],
   "source": [
    "# Import the data\n",
    "df = pd.read_csv('./interim/pison_data.csv', header=0)\n",
    "df.drop(columns='Unnamed: 0', inplace=True)"
   ]
  },
  {
   "cell_type": "code",
   "execution_count": 4,
   "id": "2e8e8310",
   "metadata": {},
   "outputs": [
    {
     "data": {
      "text/html": [
       "<div>\n",
       "<style scoped>\n",
       "    .dataframe tbody tr th:only-of-type {\n",
       "        vertical-align: middle;\n",
       "    }\n",
       "\n",
       "    .dataframe tbody tr th {\n",
       "        vertical-align: top;\n",
       "    }\n",
       "\n",
       "    .dataframe thead th {\n",
       "        text-align: right;\n",
       "    }\n",
       "</style>\n",
       "<table border=\"1\" class=\"dataframe\">\n",
       "  <thead>\n",
       "    <tr style=\"text-align: right;\">\n",
       "      <th></th>\n",
       "      <th>timestamp</th>\n",
       "      <th>channel_0</th>\n",
       "      <th>channel_1</th>\n",
       "      <th>channel_0_hp</th>\n",
       "      <th>channel_1_hp</th>\n",
       "      <th>q_x</th>\n",
       "      <th>q_y</th>\n",
       "      <th>q_z</th>\n",
       "      <th>q_w</th>\n",
       "      <th>g_x</th>\n",
       "      <th>g_y</th>\n",
       "      <th>g_z</th>\n",
       "      <th>a_x</th>\n",
       "      <th>a_y</th>\n",
       "      <th>a_z</th>\n",
       "      <th>body_movement</th>\n",
       "      <th>repetition</th>\n",
       "    </tr>\n",
       "  </thead>\n",
       "  <tbody>\n",
       "    <tr>\n",
       "      <th>0</th>\n",
       "      <td>1514824.503</td>\n",
       "      <td>12535249</td>\n",
       "      <td>12566283</td>\n",
       "      <td>-11889</td>\n",
       "      <td>17295</td>\n",
       "      <td>0.32196</td>\n",
       "      <td>-0.596619</td>\n",
       "      <td>-0.621826</td>\n",
       "      <td>0.392090</td>\n",
       "      <td>-1.342870</td>\n",
       "      <td>1.063105</td>\n",
       "      <td>0.503576</td>\n",
       "      <td>-0.660156</td>\n",
       "      <td>-10.003906</td>\n",
       "      <td>1.21875</td>\n",
       "      <td>0</td>\n",
       "      <td>1</td>\n",
       "    </tr>\n",
       "    <tr>\n",
       "      <th>1</th>\n",
       "      <td>1514827.496</td>\n",
       "      <td>12536264</td>\n",
       "      <td>12559246</td>\n",
       "      <td>-2063</td>\n",
       "      <td>13384</td>\n",
       "      <td>0.32196</td>\n",
       "      <td>-0.596741</td>\n",
       "      <td>-0.621826</td>\n",
       "      <td>0.392029</td>\n",
       "      <td>-1.510729</td>\n",
       "      <td>1.175011</td>\n",
       "      <td>0.000000</td>\n",
       "      <td>-0.660156</td>\n",
       "      <td>-10.003906</td>\n",
       "      <td>1.21875</td>\n",
       "      <td>0</td>\n",
       "      <td>1</td>\n",
       "    </tr>\n",
       "    <tr>\n",
       "      <th>2</th>\n",
       "      <td>1514830.493</td>\n",
       "      <td>12538584</td>\n",
       "      <td>12565279</td>\n",
       "      <td>2757</td>\n",
       "      <td>16008</td>\n",
       "      <td>0.32196</td>\n",
       "      <td>-0.596741</td>\n",
       "      <td>-0.621765</td>\n",
       "      <td>0.391968</td>\n",
       "      <td>-1.230964</td>\n",
       "      <td>1.175011</td>\n",
       "      <td>-0.279765</td>\n",
       "      <td>-0.660156</td>\n",
       "      <td>-10.003906</td>\n",
       "      <td>1.21875</td>\n",
       "      <td>0</td>\n",
       "      <td>1</td>\n",
       "    </tr>\n",
       "    <tr>\n",
       "      <th>3</th>\n",
       "      <td>1514833.500</td>\n",
       "      <td>12546745</td>\n",
       "      <td>12567024</td>\n",
       "      <td>7504</td>\n",
       "      <td>5644</td>\n",
       "      <td>0.32196</td>\n",
       "      <td>-0.596741</td>\n",
       "      <td>-0.621765</td>\n",
       "      <td>0.391968</td>\n",
       "      <td>-1.230964</td>\n",
       "      <td>1.175011</td>\n",
       "      <td>-0.279765</td>\n",
       "      <td>-0.660156</td>\n",
       "      <td>-10.003906</td>\n",
       "      <td>1.21875</td>\n",
       "      <td>0</td>\n",
       "      <td>1</td>\n",
       "    </tr>\n",
       "    <tr>\n",
       "      <th>4</th>\n",
       "      <td>1514836.498</td>\n",
       "      <td>12537375</td>\n",
       "      <td>12545467</td>\n",
       "      <td>-3855</td>\n",
       "      <td>-15893</td>\n",
       "      <td>0.32196</td>\n",
       "      <td>-0.596802</td>\n",
       "      <td>-0.621765</td>\n",
       "      <td>0.391907</td>\n",
       "      <td>-1.063105</td>\n",
       "      <td>0.839294</td>\n",
       "      <td>-0.727388</td>\n",
       "      <td>-0.660156</td>\n",
       "      <td>-10.003906</td>\n",
       "      <td>1.21875</td>\n",
       "      <td>0</td>\n",
       "      <td>1</td>\n",
       "    </tr>\n",
       "  </tbody>\n",
       "</table>\n",
       "</div>"
      ],
      "text/plain": [
       "     timestamp  channel_0  channel_1  channel_0_hp  channel_1_hp      q_x  \\\n",
       "0  1514824.503   12535249   12566283        -11889         17295  0.32196   \n",
       "1  1514827.496   12536264   12559246         -2063         13384  0.32196   \n",
       "2  1514830.493   12538584   12565279          2757         16008  0.32196   \n",
       "3  1514833.500   12546745   12567024          7504          5644  0.32196   \n",
       "4  1514836.498   12537375   12545467         -3855        -15893  0.32196   \n",
       "\n",
       "        q_y       q_z       q_w       g_x       g_y       g_z       a_x  \\\n",
       "0 -0.596619 -0.621826  0.392090 -1.342870  1.063105  0.503576 -0.660156   \n",
       "1 -0.596741 -0.621826  0.392029 -1.510729  1.175011  0.000000 -0.660156   \n",
       "2 -0.596741 -0.621765  0.391968 -1.230964  1.175011 -0.279765 -0.660156   \n",
       "3 -0.596741 -0.621765  0.391968 -1.230964  1.175011 -0.279765 -0.660156   \n",
       "4 -0.596802 -0.621765  0.391907 -1.063105  0.839294 -0.727388 -0.660156   \n",
       "\n",
       "         a_y      a_z  body_movement  repetition  \n",
       "0 -10.003906  1.21875              0           1  \n",
       "1 -10.003906  1.21875              0           1  \n",
       "2 -10.003906  1.21875              0           1  \n",
       "3 -10.003906  1.21875              0           1  \n",
       "4 -10.003906  1.21875              0           1  "
      ]
     },
     "execution_count": 4,
     "metadata": {},
     "output_type": "execute_result"
    }
   ],
   "source": [
    "df.head()  "
   ]
  },
  {
   "cell_type": "markdown",
   "id": "3e31048f",
   "metadata": {},
   "source": [
    "## Preprocessing the Data"
   ]
  },
  {
   "cell_type": "code",
   "execution_count": 5,
   "id": "6201b873",
   "metadata": {},
   "outputs": [],
   "source": [
    "df.rename(columns={'repetition': 'target'}, inplace=True)"
   ]
  },
  {
   "cell_type": "code",
   "execution_count": 6,
   "id": "8ae50c48",
   "metadata": {},
   "outputs": [
    {
     "data": {
      "text/html": [
       "<div>\n",
       "<style scoped>\n",
       "    .dataframe tbody tr th:only-of-type {\n",
       "        vertical-align: middle;\n",
       "    }\n",
       "\n",
       "    .dataframe tbody tr th {\n",
       "        vertical-align: top;\n",
       "    }\n",
       "\n",
       "    .dataframe thead th {\n",
       "        text-align: right;\n",
       "    }\n",
       "</style>\n",
       "<table border=\"1\" class=\"dataframe\">\n",
       "  <thead>\n",
       "    <tr style=\"text-align: right;\">\n",
       "      <th></th>\n",
       "      <th>timestamp</th>\n",
       "      <th>channel_0</th>\n",
       "      <th>channel_1</th>\n",
       "      <th>channel_0_hp</th>\n",
       "      <th>channel_1_hp</th>\n",
       "      <th>q_x</th>\n",
       "      <th>q_y</th>\n",
       "      <th>q_z</th>\n",
       "      <th>q_w</th>\n",
       "      <th>g_x</th>\n",
       "      <th>g_y</th>\n",
       "      <th>g_z</th>\n",
       "      <th>a_x</th>\n",
       "      <th>a_y</th>\n",
       "      <th>a_z</th>\n",
       "      <th>body_movement</th>\n",
       "      <th>target</th>\n",
       "    </tr>\n",
       "  </thead>\n",
       "  <tbody>\n",
       "    <tr>\n",
       "      <th>0</th>\n",
       "      <td>1514824.503</td>\n",
       "      <td>12535249</td>\n",
       "      <td>12566283</td>\n",
       "      <td>-11889</td>\n",
       "      <td>17295</td>\n",
       "      <td>0.32196</td>\n",
       "      <td>-0.596619</td>\n",
       "      <td>-0.621826</td>\n",
       "      <td>0.392090</td>\n",
       "      <td>-1.342870</td>\n",
       "      <td>1.063105</td>\n",
       "      <td>0.503576</td>\n",
       "      <td>-0.660156</td>\n",
       "      <td>-10.003906</td>\n",
       "      <td>1.21875</td>\n",
       "      <td>0</td>\n",
       "      <td>1</td>\n",
       "    </tr>\n",
       "    <tr>\n",
       "      <th>1</th>\n",
       "      <td>1514827.496</td>\n",
       "      <td>12536264</td>\n",
       "      <td>12559246</td>\n",
       "      <td>-2063</td>\n",
       "      <td>13384</td>\n",
       "      <td>0.32196</td>\n",
       "      <td>-0.596741</td>\n",
       "      <td>-0.621826</td>\n",
       "      <td>0.392029</td>\n",
       "      <td>-1.510729</td>\n",
       "      <td>1.175011</td>\n",
       "      <td>0.000000</td>\n",
       "      <td>-0.660156</td>\n",
       "      <td>-10.003906</td>\n",
       "      <td>1.21875</td>\n",
       "      <td>0</td>\n",
       "      <td>1</td>\n",
       "    </tr>\n",
       "    <tr>\n",
       "      <th>2</th>\n",
       "      <td>1514830.493</td>\n",
       "      <td>12538584</td>\n",
       "      <td>12565279</td>\n",
       "      <td>2757</td>\n",
       "      <td>16008</td>\n",
       "      <td>0.32196</td>\n",
       "      <td>-0.596741</td>\n",
       "      <td>-0.621765</td>\n",
       "      <td>0.391968</td>\n",
       "      <td>-1.230964</td>\n",
       "      <td>1.175011</td>\n",
       "      <td>-0.279765</td>\n",
       "      <td>-0.660156</td>\n",
       "      <td>-10.003906</td>\n",
       "      <td>1.21875</td>\n",
       "      <td>0</td>\n",
       "      <td>1</td>\n",
       "    </tr>\n",
       "    <tr>\n",
       "      <th>3</th>\n",
       "      <td>1514833.500</td>\n",
       "      <td>12546745</td>\n",
       "      <td>12567024</td>\n",
       "      <td>7504</td>\n",
       "      <td>5644</td>\n",
       "      <td>0.32196</td>\n",
       "      <td>-0.596741</td>\n",
       "      <td>-0.621765</td>\n",
       "      <td>0.391968</td>\n",
       "      <td>-1.230964</td>\n",
       "      <td>1.175011</td>\n",
       "      <td>-0.279765</td>\n",
       "      <td>-0.660156</td>\n",
       "      <td>-10.003906</td>\n",
       "      <td>1.21875</td>\n",
       "      <td>0</td>\n",
       "      <td>1</td>\n",
       "    </tr>\n",
       "    <tr>\n",
       "      <th>4</th>\n",
       "      <td>1514836.498</td>\n",
       "      <td>12537375</td>\n",
       "      <td>12545467</td>\n",
       "      <td>-3855</td>\n",
       "      <td>-15893</td>\n",
       "      <td>0.32196</td>\n",
       "      <td>-0.596802</td>\n",
       "      <td>-0.621765</td>\n",
       "      <td>0.391907</td>\n",
       "      <td>-1.063105</td>\n",
       "      <td>0.839294</td>\n",
       "      <td>-0.727388</td>\n",
       "      <td>-0.660156</td>\n",
       "      <td>-10.003906</td>\n",
       "      <td>1.21875</td>\n",
       "      <td>0</td>\n",
       "      <td>1</td>\n",
       "    </tr>\n",
       "  </tbody>\n",
       "</table>\n",
       "</div>"
      ],
      "text/plain": [
       "     timestamp  channel_0  channel_1  channel_0_hp  channel_1_hp      q_x  \\\n",
       "0  1514824.503   12535249   12566283        -11889         17295  0.32196   \n",
       "1  1514827.496   12536264   12559246         -2063         13384  0.32196   \n",
       "2  1514830.493   12538584   12565279          2757         16008  0.32196   \n",
       "3  1514833.500   12546745   12567024          7504          5644  0.32196   \n",
       "4  1514836.498   12537375   12545467         -3855        -15893  0.32196   \n",
       "\n",
       "        q_y       q_z       q_w       g_x       g_y       g_z       a_x  \\\n",
       "0 -0.596619 -0.621826  0.392090 -1.342870  1.063105  0.503576 -0.660156   \n",
       "1 -0.596741 -0.621826  0.392029 -1.510729  1.175011  0.000000 -0.660156   \n",
       "2 -0.596741 -0.621765  0.391968 -1.230964  1.175011 -0.279765 -0.660156   \n",
       "3 -0.596741 -0.621765  0.391968 -1.230964  1.175011 -0.279765 -0.660156   \n",
       "4 -0.596802 -0.621765  0.391907 -1.063105  0.839294 -0.727388 -0.660156   \n",
       "\n",
       "         a_y      a_z  body_movement  target  \n",
       "0 -10.003906  1.21875              0       1  \n",
       "1 -10.003906  1.21875              0       1  \n",
       "2 -10.003906  1.21875              0       1  \n",
       "3 -10.003906  1.21875              0       1  \n",
       "4 -10.003906  1.21875              0       1  "
      ]
     },
     "execution_count": 6,
     "metadata": {},
     "output_type": "execute_result"
    }
   ],
   "source": [
    "df.head()"
   ]
  },
  {
   "cell_type": "code",
   "execution_count": 7,
   "id": "bdc9637e",
   "metadata": {},
   "outputs": [
    {
     "data": {
      "text/plain": [
       "(14981, 17)"
      ]
     },
     "execution_count": 7,
     "metadata": {},
     "output_type": "execute_result"
    }
   ],
   "source": [
    "df.shape"
   ]
  },
  {
   "cell_type": "code",
   "execution_count": null,
   "id": "3b1c7db2",
   "metadata": {},
   "outputs": [],
   "source": [
    "# also do not use the timestamp"
   ]
  },
  {
   "cell_type": "markdown",
   "id": "7643d5a8",
   "metadata": {},
   "source": [
    "### Create Train/Test Split"
   ]
  },
  {
   "cell_type": "code",
   "execution_count": 8,
   "id": "365feb0a",
   "metadata": {},
   "outputs": [],
   "source": [
    "# define X and y\n",
    "\n",
    "X = df.iloc[:, 1:15]  # features, excluding timestamp column\n",
    "y = df.target  # target variable\n",
    "\n",
    "feature_list = list(X.columns)\n",
    "\n",
    "# 80:20 :: test:train split\n",
    "X_train, X_test, y_train, y_test = train_test_split(X, y, test_size=.2, random_state=420)\n"
   ]
  },
  {
   "cell_type": "markdown",
   "id": "5097dfd8",
   "metadata": {},
   "source": [
    "\n",
    "Can try a different split (70:30)"
   ]
  },
  {
   "cell_type": "code",
   "execution_count": 9,
   "id": "408518e4",
   "metadata": {},
   "outputs": [],
   "source": [
    "# build scaler based on training data and apply it to test data to then also scale the test data\n",
    "scaler = StandardScaler()\n",
    "X_train_scaled = scaler.fit_transform(X_train)\n",
    "# X_test_scaled=scaler.transform(X_test)\n",
    "X_test_scaled = scaler.transform(X_test)"
   ]
  },
  {
   "cell_type": "markdown",
   "id": "acf689ef",
   "metadata": {},
   "source": [
    "Fitting the scaler on only the training data prevents data leakage between your model training and model validation. We don't have a validation set here, but this is still best practice."
   ]
  },
  {
   "cell_type": "markdown",
   "id": "f1cf11bf",
   "metadata": {},
   "source": [
    "## Train and Fit Classifier Models"
   ]
  },
  {
   "cell_type": "markdown",
   "id": "a092dcce",
   "metadata": {},
   "source": [
    "### Random Forest Classifier"
   ]
  },
  {
   "cell_type": "code",
   "execution_count": 10,
   "id": "d67739c1",
   "metadata": {},
   "outputs": [
    {
     "name": "stdout",
     "output_type": "stream",
     "text": [
      "Random Forest: Train Accuracy=0.357\n",
      "Random Forest: Test Accuracy=1.000\n",
      "Random Forest: f1-score=1.000\n"
     ]
    }
   ],
   "source": [
    "# Random Forest Classifier\n",
    "# Model 1\n",
    "# \n",
    "\n",
    "clf = RandomForestClassifier(n_estimators = 500, random_state=420, n_jobs=-1)\n",
    "\n",
    "model1 = clf.fit(X_train_scaled, y_train)\n",
    "y_pred = model1.predict(X_test_scaled)\n",
    "y_pred_prob = model1.predict_proba(X_test_scaled)\n",
    "\n",
    "\n",
    "train_ac = accuracy_score(y_train, clf.predict(X_train))\n",
    "test_ac = accuracy_score(y_test, y_pred)  # test accuracy\n",
    "\n",
    "f1 = f1_score(y_test, y_pred, average='weighted')\n",
    "\n",
    "print('Random Forest: Train Accuracy=%.3f' % (train_ac))\n",
    "print('Random Forest: Test Accuracy=%.3f' % (test_ac))\n",
    "\n",
    "print('Random Forest: f1-score=%.3f' % (f1))"
   ]
  },
  {
   "cell_type": "code",
   "execution_count": 11,
   "id": "93ef3021",
   "metadata": {},
   "outputs": [
    {
     "data": {
      "text/plain": [
       "2    1005\n",
       "1    1000\n",
       "3     992\n",
       "Name: target, dtype: int64"
      ]
     },
     "execution_count": 11,
     "metadata": {},
     "output_type": "execute_result"
    }
   ],
   "source": [
    "y_test.value_counts()  # class distribution in test set is similar to that of train set"
   ]
  },
  {
   "cell_type": "markdown",
   "id": "412606aa",
   "metadata": {},
   "source": [
    "### Evaluate Model Performance"
   ]
  },
  {
   "cell_type": "code",
   "execution_count": 12,
   "id": "89511b85",
   "metadata": {},
   "outputs": [
    {
     "data": {
      "image/png": "[encoded data removed]",
      "text/plain": [
       "<Figure size 1152x720 with 2 Axes>"
      ]
     },
     "metadata": {
      "needs_background": "light"
     },
     "output_type": "display_data"
    }
   ],
   "source": [
    "conf = confusion_matrix(y_test, y_pred).astype('float')\n",
    "conf = conf / conf.sum(axis=1)[:, np.newaxis]\n",
    "\n",
    "#plot confusion matrix\n",
    "plt.figure(figsize=(16, 10))\n",
    "sns.heatmap(conf, annot=True, annot_kws={'size':10}, cmap=plt.cm.Greens, linewidths=0.2)\n",
    "sns.set(font_scale=1.5)\n",
    "\n",
    "_ = plt.xlabel('Predicted Activity')\n",
    "_ = plt.ylabel('True Activity')\n",
    "_ = plt.title('Confusion Matrix for Random Forest Model')\n",
    "plt.show()"
   ]
  },
  {
   "cell_type": "code",
   "execution_count": 13,
   "id": "e1ea5885",
   "metadata": {
    "scrolled": true
   },
   "outputs": [
    {
     "name": "stdout",
     "output_type": "stream",
     "text": [
      "              precision    recall  f1-score   support\n",
      "\n",
      "           1       1.00      1.00      1.00      1000\n",
      "           2       1.00      1.00      1.00      1005\n",
      "           3       1.00      1.00      1.00       992\n",
      "\n",
      "    accuracy                           1.00      2997\n",
      "   macro avg       1.00      1.00      1.00      2997\n",
      "weighted avg       1.00      1.00      1.00      2997\n",
      "\n"
     ]
    }
   ],
   "source": [
    "print(classification_report(y_test, y_pred))"
   ]
  },
  {
   "cell_type": "code",
   "execution_count": 14,
   "id": "3f47d93c",
   "metadata": {},
   "outputs": [
    {
     "data": {
      "image/png": "[encoded data removed]",
      "text/plain": [
       "<Figure size 432x288 with 1 Axes>"
      ]
     },
     "metadata": {},
     "output_type": "display_data"
    }
   ],
   "source": [
    "# feature importances for Model 1 (Random Forest Classifier)\n",
    "\n",
    "feature_importances = pd.Series(model1.feature_importances_, index=feature_list)\n",
    "_ = feature_importances.nlargest(12).plot(kind='barh', color=['royalblue', 'orange', 'green', 'tab:red', 'blueviolet', 'tab:brown', 'tab:pink', 'tab:gray', 'tab:olive', 'tab:cyan']).invert_yaxis()\n",
    "\n",
    "_ = plt.ylabel('Feature Numbers')\n",
    "_ = plt.xlabel('Importances')\n",
    "_ = plt.title('Top 12 Feature Importances for Random Forest Classifier Model')\n",
    "plt.show()"
   ]
  },
  {
   "cell_type": "markdown",
   "id": "f87bcac8",
   "metadata": {},
   "source": [
    "### Random Forest Classifier 2"
   ]
  },
  {
   "cell_type": "markdown",
   "id": "0457c611",
   "metadata": {},
   "source": [
    "There was a big difference in the train accuracy and test accuracy. The train accuracy was very low and the test accuracy was perfect. Why? "
   ]
  },
  {
   "cell_type": "markdown",
   "id": "1f05ad5d",
   "metadata": {},
   "source": [
    "**Can try new strategy here:**\n",
    "\n",
    "Test on walking fast whole body movement.\n",
    "Train on all other whole body movements."
   ]
  },
  {
   "cell_type": "code",
   "execution_count": null,
   "id": "b7a7e7a7",
   "metadata": {},
   "outputs": [],
   "source": [
    "# # create train/test/validation split using new strategy\n",
    "\n",
    "# X_train, X_test, y_train, y_test = train_test_split(X, y, test_size = 0.3, random_state=420)\n",
    "# X_train, X_val, y_train, y_val = train_test_split(X_train, y_train, test_size = 2/7, random_state=420)\n",
    "\n",
    "# scaler = StandardScaler()\n",
    "# X_train = scaler.fit_transform(X_train)\n",
    "# X_val = scaler.transform(X_val)\n",
    "# X_test = scaler.transform(X_test)"
   ]
  },
  {
   "cell_type": "code",
   "execution_count": null,
   "id": "74f2eaf7",
   "metadata": {},
   "outputs": [],
   "source": []
  },
  {
   "cell_type": "markdown",
   "id": "a45c89be",
   "metadata": {},
   "source": [
    "### Linear Support Vector Classifier"
   ]
  },
  {
   "cell_type": "code",
   "execution_count": 31,
   "id": "b725e1cc",
   "metadata": {},
   "outputs": [
    {
     "name": "stdout",
     "output_type": "stream",
     "text": [
      "Linear SVC: Train Accuracy=0.683\n",
      "Linear SVC: Test Accuracy=0.655\n"
     ]
    },
    {
     "name": "stderr",
     "output_type": "stream",
     "text": [
      "C:\\Users\\shak-\\anaconda3\\lib\\site-packages\\sklearn\\svm\\_base.py:985: ConvergenceWarning: Liblinear failed to converge, increase the number of iterations.\n",
      "  warnings.warn(\"Liblinear failed to converge, increase \"\n"
     ]
    }
   ],
   "source": [
    "# use LinearSVC because better scaling than SVC (linear scaling vs quadratic scaling)\n",
    "\n",
    "clf2 = LinearSVC(random_state=420)\n",
    "\n",
    "model2 = clf2.fit(X_train_scaled, y_train)\n",
    "\n",
    "y_pred = model2.predict(X_test_scaled)\n",
    "train_ac = accuracy_score(y_train, clf2.predict(X_train_scaled))\n",
    "test_ac = accuracy_score(y_test, y_pred)  # test accuracy\n",
    "\n",
    "f1 = f1_score(y_test, y_pred, average='weighted')\n",
    "\n",
    "print('Linear SVC: Train Accuracy=%.3f' % (train_ac))\n",
    "print('Linear SVC: Test Accuracy=%.3f' % (test_ac))"
   ]
  },
  {
   "cell_type": "markdown",
   "id": "3ca6b825",
   "metadata": {},
   "source": [
    "Would be helpful to mitigate overfitting, if any. \n",
    "Also helpful to increase model performance."
   ]
  },
  {
   "cell_type": "markdown",
   "id": "dd7a802d",
   "metadata": {},
   "source": [
    "### Evaluate Model Performance for SVC"
   ]
  },
  {
   "cell_type": "code",
   "execution_count": 32,
   "id": "5e09cacf",
   "metadata": {},
   "outputs": [
    {
     "data": {
      "image/png": "[encoded data removed]",
      "text/plain": [
       "<Figure size 1152x720 with 2 Axes>"
      ]
     },
     "metadata": {},
     "output_type": "display_data"
    }
   ],
   "source": [
    "conf = confusion_matrix(y_test, y_pred).astype('float')\n",
    "conf = conf / conf.sum(axis=1)[:, np.newaxis]\n",
    "\n",
    "#plot confusion matrix\n",
    "plt.figure(figsize=(16, 10))\n",
    "sns.heatmap(conf, annot=True, annot_kws={'size':10}, cmap=plt.cm.Greens, linewidths=0.2)\n",
    "sns.set(font_scale=1.5)\n",
    "\n",
    "_ = plt.xlabel('Predicted Activity')\n",
    "_ = plt.ylabel('True Activity')\n",
    "_ = plt.title('Confusion Matrix for Linear Support Vector Classifier')\n",
    "plt.show()"
   ]
  },
  {
   "cell_type": "code",
   "execution_count": 33,
   "id": "a5df0710",
   "metadata": {},
   "outputs": [
    {
     "name": "stdout",
     "output_type": "stream",
     "text": [
      "              precision    recall  f1-score   support\n",
      "\n",
      "           1       0.60      0.62      0.61      1000\n",
      "           2       0.67      0.76      0.71      1005\n",
      "           3       0.70      0.58      0.63       992\n",
      "\n",
      "    accuracy                           0.65      2997\n",
      "   macro avg       0.66      0.65      0.65      2997\n",
      "weighted avg       0.66      0.65      0.65      2997\n",
      "\n"
     ]
    }
   ],
   "source": [
    "print(classification_report(y_test, y_pred))"
   ]
  },
  {
   "cell_type": "code",
   "execution_count": null,
   "id": "45f27b53",
   "metadata": {},
   "outputs": [],
   "source": []
  },
  {
   "cell_type": "markdown",
   "id": "debaa041",
   "metadata": {},
   "source": [
    "## Hyperparameter Optimization"
   ]
  },
  {
   "cell_type": "code",
   "execution_count": null,
   "id": "5002acd9",
   "metadata": {},
   "outputs": [],
   "source": []
  },
  {
   "cell_type": "code",
   "execution_count": null,
   "id": "6e52740c",
   "metadata": {},
   "outputs": [],
   "source": []
  }
 ],
 "metadata": {
  "kernelspec": {
   "display_name": "Python 3 (ipykernel)",
   "language": "python",
   "name": "python3"
  },
  "language_info": {
   "codemirror_mode": {
    "name": "ipython",
    "version": 3
   },
   "file_extension": ".py",
   "mimetype": "text/x-python",
   "name": "python",
   "nbconvert_exporter": "python",
   "pygments_lexer": "ipython3",
   "version": "3.9.7"
  }
 },
 "nbformat": 4,
 "nbformat_minor": 5
}
